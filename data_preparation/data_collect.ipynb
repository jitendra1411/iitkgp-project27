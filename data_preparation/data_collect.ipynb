{
  "nbformat": 4,
  "nbformat_minor": 0,
  "metadata": {
    "colab": {
      "name": "data_collect.ipynb",
      "version": "0.3.2",
      "provenance": []
    },
    "kernelspec": {
      "name": "python3",
      "display_name": "Python 3"
    }
  },
  "cells": [
    {
      "cell_type": "code",
      "metadata": {
        "id": "JwrFsBp1V5Cg",
        "colab_type": "code",
        "colab": {}
      },
      "source": [
        "from google.colab import drive\n",
        "drive.mount('/content/gdrive')"
      ],
      "execution_count": 0,
      "outputs": []
    },
    {
      "cell_type": "code",
      "metadata": {
        "id": "XPAUEhHnG556",
        "colab_type": "code",
        "colab": {}
      },
      "source": [
        "!cp '/content/gdrive/My Drive/FUMPE.zip' '/content'"
      ],
      "execution_count": 0,
      "outputs": []
    },
    {
      "cell_type": "code",
      "metadata": {
        "id": "GpMotN-8Astv",
        "colab_type": "code",
        "colab": {}
      },
      "source": [
        "drive.flush_and_unmount()"
      ],
      "execution_count": 0,
      "outputs": []
    },
    {
      "cell_type": "code",
      "metadata": {
        "id": "O87IJcknN1lF",
        "colab_type": "code",
        "colab": {}
      },
      "source": [
        " rm -r '/content/dataset/FUMPE/mip'"
      ],
      "execution_count": 0,
      "outputs": []
    },
    {
      "cell_type": "code",
      "metadata": {
        "id": "lkfjwNAttqLj",
        "colab_type": "code",
        "colab": {}
      },
      "source": [
        "![ ! -d '/content/dataset_compressed' ] && mkdir '/content/dataset_compressed'\n",
        "![ ! -d '/content/dataset' ] && mkdir '/content/dataset'\n",
        "![ ! -d '/content/dataset/FUMPE' ] && mkdir '/content/dataset/FUMPE'\n",
        "![ ! -d '/content/dataset/FUMPE/mip' ] && mkdir '/content/dataset/FUMPE/mip'\n",
        "![ ! -d '/content/dataset/FUMPE/mip/train' ] && mkdir '/content/dataset/FUMPE/mip/train'\n",
        "![ ! -d '/content/dataset/FUMPE/mip/test' ] && mkdir '/content/dataset/FUMPE/mip/test'\n",
        "![ ! -d '/content/dataset/FUMPE/mip/validate' ] && mkdir '/content/dataset/FUMPE/mip/validate'"
      ],
      "execution_count": 0,
      "outputs": []
    },
    {
      "cell_type": "code",
      "metadata": {
        "id": "BK1810OG7Yat",
        "colab_type": "code",
        "colab": {}
      },
      "source": [
        "!pip install rarfile\n",
        "!pip install dicom\n",
        "!pip install scipy"
      ],
      "execution_count": 0,
      "outputs": []
    },
    {
      "cell_type": "code",
      "metadata": {
        "id": "DqOlZEUI7lxb",
        "colab_type": "code",
        "colab": {}
      },
      "source": [
        "import rarfile\n",
        "import glob\n",
        "import dicom\n",
        "import numpy\n",
        "import matplotlib.pyplot as plt\n",
        "import scipy.io as sio"
      ],
      "execution_count": 0,
      "outputs": []
    },
    {
      "cell_type": "code",
      "metadata": {
        "id": "d68N2yh8XYx9",
        "colab_type": "code",
        "colab": {}
      },
      "source": [
        "!unzip  FUMPE.zip -d /content/dataset_compressed/FUMPE"
      ],
      "execution_count": 0,
      "outputs": []
    },
    {
      "cell_type": "code",
      "metadata": {
        "id": "VgT8H9KjO9Yf",
        "colab_type": "code",
        "colab": {}
      },
      "source": [
        "files = glob.glob('/content/dataset_compressed/FUMPE/*')\n",
        "for file in files:\n",
        "  print(\"extracting \" + file +\"  ...\")\n",
        "  rarfile.RarFile(file).extract('/content/dataset/FUMPE')"
      ],
      "execution_count": 0,
      "outputs": []
    },
    {
      "cell_type": "code",
      "metadata": {
        "id": "M6plFBCOzSdi",
        "colab_type": "code",
        "colab": {}
      },
      "source": [
        "def mip(array, axis):\n",
        "  return numpy.amax(array,axis)"
      ],
      "execution_count": 0,
      "outputs": []
    },
    {
      "cell_type": "code",
      "metadata": {
        "id": "KHj51O_k6HT-",
        "colab_type": "code",
        "colab": {}
      },
      "source": [
        "def write_dicom(pixel_array,filename):\n",
        "    import dicom, dicom.UID\n",
        "    from dicom.dataset import Dataset, FileDataset\n",
        "    file_meta = Dataset()\n",
        "    ds = FileDataset(filename, {},file_meta = file_meta)\n",
        "    ds.PixelData = pixel_array.tostring()\n",
        "    ds.save_as(filename)\n",
        "    return"
      ],
      "execution_count": 0,
      "outputs": []
    },
    {
      "cell_type": "code",
      "metadata": {
        "id": "G0cPAPaQG7_i",
        "colab_type": "code",
        "colab": {}
      },
      "source": [
        "def dcmToNumpyArray(path):\n",
        "  ds = dicom.read_file(dcmFile)\n",
        "  return ds.pixel_array"
      ],
      "execution_count": 0,
      "outputs": []
    },
    {
      "cell_type": "code",
      "metadata": {
        "id": "SGUqeSKwnCrV",
        "colab_type": "code",
        "colab": {}
      },
      "source": [
        "patients = glob.glob('/content/dataset/FUMPE/PAT*')\n",
        "patient_mip ={}\n",
        "patientIds = []\n",
        "for patient_dir in patients:\n",
        "  dcmFiles = []\n",
        "  for filePath in glob.glob(patient_dir + '/*.dcm'):\n",
        "    dcmFiles.append(filePath)\n",
        "  file = dicom.read_file(dcmFiles[0])\n",
        "  \n",
        "  patientId = patient_dir.split(\"/\")[4]\n",
        "  patientIds.append(patientId)\n",
        "  print(\"processing for \" + patientId)\n",
        "\n",
        "  ConstPixelDims = (int(file.Rows), int(file.Columns),int(len(dcmFiles)))\n",
        "\n",
        "  ConstPixelSpacing = (float(file.PixelSpacing[0]), float(file.PixelSpacing[1]), float(file.SliceThickness))\n",
        "\n",
        "  ArrayDicom = numpy.zeros(ConstPixelDims, dtype=file.pixel_array.dtype)\n",
        "\n",
        "  for dcmFile in dcmFiles:\n",
        "      ArrayDicom[:, :,dcmFiles.index(dcmFile)] = dcmToNumpyArray(dcmFile)\n",
        "  np_mip = mip(ArrayDicom,2)\n",
        "  patient_mip[patientId] = np_mip\n",
        "#   plt.imshow(np_mip, interpolation='nearest')\n",
        "#   plt.show()\n",
        "# print(patientIds)"
      ],
      "execution_count": 0,
      "outputs": []
    },
    {
      "cell_type": "code",
      "metadata": {
        "id": "5J6IEcXzMERV",
        "colab_type": "code",
        "colab": {}
      },
      "source": [
        "def matToNumpyArray(path, key):\n",
        "  test = sio.loadmat(path)\n",
        "  arr = numpy.array(test[key], dtype = numpy.int64)\n",
        "  return arr"
      ],
      "execution_count": 0,
      "outputs": []
    },
    {
      "cell_type": "code",
      "metadata": {
        "id": "WkYcqTVS_LyZ",
        "colab_type": "code",
        "colab": {}
      },
      "source": [
        "import scipy\n",
        "for patientId in patientIds:\n",
        "  data = patient_mip[patientId]\n",
        "  path = '/content/dataset/FUMPE/mip/' + patientId + '.mat'\n",
        "  tmp = {\"data\": data}\n",
        "\n",
        "  scipy.io.savemat(path, tmp)\n",
        "  data1 = matToNumpyArray(path, 'data')\n",
        "#   plt.imshow(data1, interpolation='nearest')\n",
        "#   plt.show()\n"
      ],
      "execution_count": 0,
      "outputs": []
    },
    {
      "cell_type": "code",
      "metadata": {
        "id": "B1Gc8sTJ6BLv",
        "colab_type": "code",
        "colab": {}
      },
      "source": [
        ""
      ],
      "execution_count": 0,
      "outputs": []
    }
  ]
}